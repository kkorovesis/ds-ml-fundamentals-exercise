{
 "cells": [
  {
   "cell_type": "markdown",
   "metadata": {
    "collapsed": true,
    "pycharm": {
     "name": "#%% md\n"
    }
   },
   "source": [
    "# DS Ml Exercise"
   ]
  },
  {
   "cell_type": "markdown",
   "metadata": {},
   "source": [
    "Import libraries"
   ]
  },
  {
   "cell_type": "code",
   "execution_count": 17,
   "metadata": {
    "pycharm": {
     "name": "#%%\n"
    }
   },
   "outputs": [],
   "source": [
    "import pandas as pd\n",
    "import joblib\n",
    "import seaborn as sns\n",
    "import json\n",
    "import matplotlib.pyplot as plt\n",
    "import unicodedata\n",
    "import warnings\n",
    "from html import unescape\n",
    "from scipy.stats import pearsonr\n",
    "from urllib import request\n",
    "from sklearn import svm\n",
    "from sklearn.metrics import confusion_matrix, precision_score, recall_score, accuracy_score, f1_score\n",
    "from sklearn.model_selection import train_test_split, GridSearchCV\n",
    "from sklearn.metrics import classification_report\n",
    "from sklearn.pipeline import Pipeline\n",
    "from sklearn.preprocessing import StandardScaler\n",
    "from sklearn.utils.validation import DataConversionWarning\n",
    "warnings.filterwarnings(\"ignore\")"
   ]
  },
  {
   "cell_type": "markdown",
   "metadata": {},
   "source": [
    "Utility functions"
   ]
  },
  {
   "cell_type": "code",
   "execution_count": 24,
   "metadata": {
    "pycharm": {
     "name": "#%%\n"
    }
   },
   "outputs": [],
   "source": [
    "def request_json_data(url):\n",
    "  \"\"\"\n",
    "  Request url data\n",
    "  :param url:\n",
    "  :return:\n",
    "  \"\"\"\n",
    "  with request.urlopen(url) as j:\n",
    "    data = json.loads(j.read().decode())\n",
    "  return data\n",
    "\n",
    "\n",
    "def clean_text(text):\n",
    "  \"\"\"\n",
    "  Deal with artifacts and remove accent (e.g á -> a)\n",
    "  :param text:\n",
    "  :return:\n",
    "  \"\"\"\n",
    "  text = unescape(text)\n",
    "  return ''.join(c for c in unicodedata.normalize('NFD', text)\n",
    "                 if unicodedata.category(c) != 'Mn')\n"
   ]
  },
  {
   "cell_type": "markdown",
   "metadata": {
    "pycharm": {
     "name": "#%% md\n"
    }
   },
   "source": [
    "Lets start by loading and preparing all available data from the repository."
   ]
  },
  {
   "cell_type": "code",
   "execution_count": 25,
   "metadata": {
    "pycharm": {
     "name": "#%%\n"
    }
   },
   "outputs": [],
   "source": [
    "# Download all datasets from repo\n",
    "\n",
    "# raw bechdel data\n",
    "bechdel_data = pd.read_csv(\"https://raw.githubusercontent.com/rfordatascience/tidytuesday/master/data/2021/2021-03-09/raw_bechdel.csv\", dtype=str)\n",
    "\n",
    "# movies dataset\n",
    "movies = pd.read_csv(\"https://raw.githubusercontent.com/fivethirtyeight/data/master/bechdel/movies.csv\", dtype=str)\n",
    "\n",
    "# imdb data (also provided in the repo)\n",
    "imdb = pd.DataFrame(request_json_data(\"https://raw.githubusercontent.com/brianckeegan/Bechdel/master/imdb_data.json\"))\n",
    "\n",
    "\n",
    "# Data canonicalization\n",
    "bechdel_data['year'] = bechdel_data['year'].astype('int')\n",
    "bechdel_data['rating'] = bechdel_data['rating'].astype('int')\n",
    "movies['imdbid'] = movies['imdb'].apply(lambda x: x.split('tt')[1])  # get the proper imdb id format\n",
    "\n",
    "# To get more data on the movies we join with movies dataset that includes 1794 movies\n",
    "# Merge datasets to create a new dataset\n",
    "movies_data = pd.merge(\n",
    "  bechdel_data[['imdb_id', 'rating']], movies, how='right', left_on=['imdb_id'], right_on=['imdbid']\n",
    ")\n",
    "\n",
    "imdb = imdb.dropna(subset=['imdbID'])\n",
    "imdb = imdb[imdb['imdbRating'] != 'N/A']\n",
    "imdb = imdb[imdb['imdbVotes'] != 'N/A']\n",
    "imdb['imdbid'] = imdb['imdbID'].apply(lambda x: x.split('tt')[1])  # get the proper imdb id format\n",
    "imdb['imdbRating'] = imdb['imdbRating'].astype(float)\n",
    "imdb['imdbVotes'] = imdb['imdbVotes'].apply(lambda x: float(x.replace(',', '')))"
   ]
  },
  {
   "cell_type": "markdown",
   "metadata": {},
   "source": [
    "## Task 1"
   ]
  },
  {
   "cell_type": "markdown",
   "metadata": {},
   "source": [
    "1. Average Bechdel Score Per Year."
   ]
  },
  {
   "cell_type": "code",
   "execution_count": 26,
   "metadata": {
    "pycharm": {
     "name": "#%%\n"
    }
   },
   "outputs": [
    {
     "data": {
      "text/plain": "<Figure size 432x288 with 1 Axes>",
      "image/png": "[encoded data removed]"
     },
     "metadata": {
      "needs_background": "light"
     },
     "output_type": "display_data"
    }
   ],
   "source": [
    "bechdel_data.loc[bechdel_data['year'] < 2022, ['year', 'rating']].groupby(['year']).mean().rename(\n",
    "  columns={'rating': 'avg rating'}).plot()\n",
    "plt.title('Average Bechdel Score Per Year')\n",
    "plt.show()"
   ]
  },
  {
   "cell_type": "markdown",
   "metadata": {},
   "source": [
    "2. ears where 50% of movies have a Bechdel score of 2 or higher."
   ]
  },
  {
   "cell_type": "code",
   "execution_count": 27,
   "metadata": {
    "pycharm": {
     "name": "#%%\n"
    }
   },
   "outputs": [
    {
     "name": "stdout",
     "output_type": "stream",
     "text": [
      "The years where 50% of movies have a Bechdel score of 2 or higher are: 1899, 1919, 1923, 1942\n"
     ]
    }
   ],
   "source": [
    "l1st = []\n",
    "for year in sorted(set(bechdel_data['year'].values.tolist())):\n",
    "  num_over_two = len(bechdel_data[(bechdel_data['year'] == year) & (bechdel_data['rating'] >= 2)])\n",
    "  num_all = len(bechdel_data[bechdel_data['year'] == year])\n",
    "  if num_over_two / num_all == 0.5:\n",
    "    l1st.append(year)\n",
    "print(f\"The years where 50% of movies have a Bechdel score of 2 or higher are: {', '.join(str(y) for y in l1st)}\")"
   ]
  },
  {
   "cell_type": "markdown",
   "metadata": {},
   "source": [
    "## Task 2"
   ]
  },
  {
   "cell_type": "markdown",
   "metadata": {},
   "source": [
    "1.\n",
    "Movies, Dataset quality assessment"
   ]
  },
  {
   "cell_type": "code",
   "execution_count": 28,
   "metadata": {
    "pycharm": {
     "name": "#%%\n"
    }
   },
   "outputs": [
    {
     "name": "stdout",
     "output_type": "stream",
     "text": [
      "Dataset data types and non-null rows\n",
      "<class 'pandas.core.frame.DataFrame'>\n",
      "Int64Index: 1794 entries, 0 to 1793\n",
      "Data columns (total 18 columns):\n",
      " #   Column          Non-Null Count  Dtype  \n",
      "---  ------          --------------  -----  \n",
      " 0   imdb_id         1793 non-null   object \n",
      " 1   rating          1793 non-null   float64\n",
      " 2   year            1794 non-null   object \n",
      " 3   imdb            1794 non-null   object \n",
      " 4   title           1794 non-null   object \n",
      " 5   test            1794 non-null   object \n",
      " 6   clean_test      1794 non-null   object \n",
      " 7   binary          1794 non-null   object \n",
      " 8   budget          1794 non-null   object \n",
      " 9   domgross        1777 non-null   object \n",
      " 10  intgross        1783 non-null   object \n",
      " 11  code            1794 non-null   object \n",
      " 12  budget_2013$    1794 non-null   object \n",
      " 13  domgross_2013$  1776 non-null   object \n",
      " 14  intgross_2013$  1783 non-null   object \n",
      " 15  period code     1615 non-null   object \n",
      " 16  decade code     1615 non-null   object \n",
      " 17  imdbid          1794 non-null   object \n",
      "dtypes: float64(1), object(17)\n",
      "memory usage: 266.3+ KB\n"
     ]
    },
    {
     "data": {
      "text/plain": "<Figure size 432x288 with 1 Axes>",
      "image/png": "[encoded data removed]"
     },
     "metadata": {
      "needs_background": "light"
     },
     "output_type": "display_data"
    },
    {
     "name": "stdout",
     "output_type": "stream",
     "text": [
      "AxesSubplot(0.125,0.125;0.775x0.755)\n"
     ]
    },
    {
     "data": {
      "text/plain": "<Figure size 432x288 with 1 Axes>",
      "image/png": "[encoded data removed]"
     },
     "metadata": {
      "needs_background": "light"
     },
     "output_type": "display_data"
    },
    {
     "name": "stdout",
     "output_type": "stream",
     "text": [
      "AxesSubplot(0.125,0.125;0.775x0.755)\n"
     ]
    },
    {
     "data": {
      "text/plain": "<Figure size 432x288 with 1 Axes>",
      "image/png": "[encoded data removed]"
     },
     "metadata": {
      "needs_background": "light"
     },
     "output_type": "display_data"
    }
   ],
   "source": [
    "print(\"Dataset data types and non-null rows\")\n",
    "movies_data.info()\n",
    "\n",
    "movies_data.isna().sum().plot.barh()\n",
    "# Missing values per column\n",
    "plt.title('Missing values')\n",
    "plt.show()\n",
    "\n",
    "# Number of movies per year\n",
    "print(movies_data['year'].value_counts().sort_index().plot.bar())\n",
    "plt.title('Movies per year')\n",
    "plt.show()\n",
    "\n",
    "# Number of movies per rating\n",
    "print(movies_data['rating'].value_counts().sort_index().plot.bar())\n",
    "plt.title('Movies per rating')\n",
    "plt.show()"
   ]
  },
  {
   "cell_type": "markdown",
   "metadata": {},
   "source": [
    "Search for duplicates in the dataset"
   ]
  },
  {
   "cell_type": "code",
   "execution_count": 29,
   "metadata": {
    "pycharm": {
     "name": "#%%\n"
    }
   },
   "outputs": [
    {
     "name": "stdout",
     "output_type": "stream",
     "text": [
      "Number of duplicate rows:  0\n",
      "Number of imdb ids:  0\n",
      "Number of duplicate movie titles:  51\n",
      "\n",
      "\n",
      "Sample of Duplicates\n",
      "      imdb_id  year                   title    budget budget_2013$\n",
      "827   0398712  2005  Assault on Precinct 13  30000000     35790994\n",
      "1760  0074156  1976  Assault on Precinct 13  30000000    122754817\n",
      "12    1559547  2013     Beautiful Creatures  50000000     50000000\n",
      "1218  0221889  2000     Beautiful Creatures  50000000     67645419\n",
      "1773  0071222  1974         Black Christmas   9000000     42513535\n",
      "741   0454082  2006         Black Christmas   9000000     10402167\n",
      "15    1939659  2013                  Carrie  30000000     30000000\n",
      "1084  0319970  2002                  Carrie  30000000     38855376\n",
      "203   0816462  2011     Conan the Barbarian  20000000     20713816\n",
      "1705  0082198  1982     Conan the Barbarian  20000000     48265360\n",
      "945   0363547  2004        Dawn of the Dead  28000000     34529401\n",
      "1746  0077402  1978        Dawn of the Dead  28000000     99979768\n",
      "575   0489018  2008         Day of the Dead  18000000     19480614\n",
      "1675  0088993  1985         Day of the Dead  18000000     38971004\n",
      "1687  0087182  1984                    Dune  45000000    100864980\n"
     ]
    }
   ],
   "source": [
    "# There are no duplicate rows in the dataset\n",
    "print(\"Number of duplicate rows: \", len(movies_data[movies_data.duplicated()]))\n",
    "\n",
    "# There are no duplicate imdb ids in the dataset\n",
    "print(\"Number of imdb ids: \", len(movies_data[movies_data.duplicated(['imdb'], keep=False)]))\n",
    "\n",
    "# Duplicate Titles\n",
    "print(\"Number of duplicate movie titles: \", len(movies_data[movies_data.duplicated(['title'], keep=False)]))\n",
    "print(\"\\n\")\n",
    "print(\"Sample of Duplicates\")\n",
    "print(movies_data[movies_data.duplicated(['title'], keep=False)][['imdb_id', 'year', 'title', 'budget', 'budget_2013$']].sort_values('title')[:15])"
   ]
  },
  {
   "cell_type": "markdown",
   "metadata": {},
   "source": [
    "We see that there are duplicate movie titles with identical budget/gross and different normalized budget/gross. These are probably different movies, so what's up with the pre-normalization budget/gross etc ?"
   ]
  },
  {
   "cell_type": "code",
   "execution_count": 30,
   "metadata": {
    "pycharm": {
     "name": "#%%\n"
    }
   },
   "outputs": [
    {
     "name": "stdout",
     "output_type": "stream",
     "text": [
      "                    title  year    budget  domgross  intgross budget_2013$  \\\n",
      "12    Beautiful Creatures  2013  50000000  19452138  55940671     50000000   \n",
      "1218  Beautiful Creatures  2000  50000000  19452138  55940671     67645419   \n",
      "\n",
      "     domgross_2013$ intgross_2013$  \n",
      "12         19452138       55940671  \n",
      "1218       26316961       75682603  \n"
     ]
    }
   ],
   "source": [
    "# Different movie with same budget\n",
    "print(movies_data[movies_data['title'] == 'Beautiful Creatures'][\n",
    "        ['title', 'year', 'budget', 'domgross', 'intgross', 'budget_2013$', 'domgross_2013$', 'intgross_2013$']\n",
    "      ])"
   ]
  },
  {
   "cell_type": "markdown",
   "metadata": {
    "pycharm": {
     "name": "#%% md\n"
    }
   },
   "source": [
    "2. Data cleaning"
   ]
  },
  {
   "cell_type": "code",
   "execution_count": 11,
   "metadata": {
    "pycharm": {
     "name": "#%%\n"
    }
   },
   "outputs": [
    {
     "name": "stdout",
     "output_type": "stream",
     "text": [
      " There are artifacts in the text (e.g. title: '21 & Over')\n"
     ]
    }
   ],
   "source": [
    "print(f\" There are artifacts in the text (e.g. title: '{movies_data.iloc[0]['title']}')\")"
   ]
  },
  {
   "cell_type": "code",
   "execution_count": 15,
   "outputs": [
    {
     "name": "stdout",
     "output_type": "stream",
     "text": [
      "Clean title:`21 & Over`\n"
     ]
    }
   ],
   "source": [
    "# We deal with the artifacts and strip and accent todo: do more cleaning if there is any\n",
    "movies_data['title'] = movies_data['title'].apply(lambda x: clean_text(x))\n",
    "print(f\"Clean title:`{movies_data.iloc[0]['title']}`\")\n"
   ],
   "metadata": {
    "collapsed": false,
    "pycharm": {
     "name": "#%%\n"
    }
   }
  },
  {
   "cell_type": "markdown",
   "source": [
    "3. Correlate features"
   ],
   "metadata": {
    "collapsed": false
   }
  },
  {
   "cell_type": "code",
   "execution_count": 24,
   "outputs": [
    {
     "data": {
      "text/plain": "<Figure size 432x288 with 2 Axes>",
      "image/png": "[encoded data removed]"
     },
     "metadata": {
      "needs_background": "light"
     },
     "output_type": "display_data"
    },
    {
     "name": "stdout",
     "output_type": "stream",
     "text": [
      "As we can see there is no strong correlation of any feature with the rating (Bechdel score) or the PASS or FAIL label. There is slight negative correlation of -0.15 between the budget of the movie and the PASS or FAIL label but its not significant. There is an even \"worst\" correlation of -0.12 between the budget of the movie and rating(score) also not significant. There is a strong correlation of 0.73 between the `rating` and the `binary`, but there both score labels therefore can not be considered as movies data features.\n"
     ]
    }
   ],
   "source": [
    "# prepare feature dataset\n",
    "movies_features = movies_data[['year', 'budget_2013$', 'domgross_2013$', 'intgross_2013$', 'rating', 'binary']]\n",
    "for col in ['budget_2013$', 'domgross_2013$', 'intgross_2013$', 'rating']:\n",
    "  movies_features[col] = movies_features[col].astype(float)\n",
    "\n",
    "# transform PAS/FAIL to binary labels\n",
    "movies_features['binary'] = movies_features['binary'].apply(lambda x: 1 if x == \"PASS\" else 0)\n",
    "movies_features = movies_features.dropna()\n",
    "\n",
    "# calculate correlations\n",
    "cor = movies_features.corr(method='pearson')\n",
    "sns.heatmap(cor, annot=True, cmap=plt.cm.Reds)\n",
    "plt.show()\n",
    "corr1, _ = pearsonr(movies_features['budget_2013$'], movies_features['binary'])\n",
    "corr2, _ = pearsonr(movies_features['budget_2013$'], movies_features['rating'])\n",
    "corr3, _ = pearsonr(movies_features['rating'], movies_features['binary'])\n",
    "\n",
    "print('As we can see there is no strong correlation of any feature with the rating (Bechdel score) or the PASS or '\n",
    "      'FAIL label. There is slight negative correlation of %.2f between the budget of the movie and the PASS or FAIL label but '\n",
    "      'its not significant. There is an even \"worst\" negative correlation of %.2f between the budget of the movie and rating('\n",
    "      'score) also not significant. There is a strong correlation of %.2f between the `rating` and the `binary`, '\n",
    "      'but there both score labels therefore can not be considered as movies data features.'% (corr1, corr2, corr3))"
   ],
   "metadata": {
    "collapsed": false,
    "pycharm": {
     "name": "#%%\n"
    }
   }
  },
  {
   "cell_type": "markdown",
   "source": [
    "Lets introduce more features\n"
   ],
   "metadata": {
    "collapsed": false
   }
  },
  {
   "cell_type": "code",
   "execution_count": 28,
   "outputs": [
    {
     "data": {
      "text/plain": "<Figure size 432x288 with 2 Axes>",
      "image/png": "[encoded data removed]"
     },
     "metadata": {
      "needs_background": "light"
     },
     "output_type": "display_data"
    },
    {
     "name": "stdout",
     "output_type": "stream",
     "text": [
      "There is slight correlation of -0.17 between the imdb votes of the movie and the PASS or FAIL label but its not significant.There is an even \"worst\" negative correlation of -0.13 between the budget of the movie and rating(score) also not significant \n"
     ]
    }
   ],
   "source": [
    "other_movies_features = pd.merge(\n",
    "  imdb[['imdbid', 'imdbRating', 'imdbVotes']],\n",
    "  movies_data[['imdbid', 'rating', 'binary']],\n",
    "  how='right', on='imdbid'\n",
    ")\n",
    "other_movies_features['binary'] = other_movies_features['binary'].apply(lambda x: 1 if x == \"PASS\" else 0)\n",
    "other_movies_features['bechdel_rating'] = other_movies_features['rating'].astype(float)\n",
    "del other_movies_features['rating']\n",
    "other_movies_features = other_movies_features.dropna()\n",
    "\n",
    "cor = other_movies_features.corr(method='pearson')\n",
    "sns.heatmap(cor, annot=True, cmap=plt.cm.Reds)\n",
    "plt.show()\n",
    "corr4, _ = pearsonr(other_movies_features['imdbVotes'], other_movies_features['binary'])\n",
    "corr5, _ = pearsonr(other_movies_features['imdbVotes'], other_movies_features['bechdel_rating'])\n",
    "print('There is slight correlation of %.2f between the imdb votes of the movie and the PASS or FAIL label but its not significant.'\n",
    "      'There is an even \"worst\" negative correlation of %.2f between the budget of the movie and rating('\n",
    "      'score) also not significant. ' % (corr4, corr5))\n",
    "\n"
   ],
   "metadata": {
    "collapsed": false,
    "pycharm": {
     "name": "#%%\n"
    }
   }
  },
  {
   "cell_type": "markdown",
   "source": [
    "## Task 3"
   ],
   "metadata": {
    "collapsed": false
   }
  },
  {
   "cell_type": "markdown",
   "source": [
    "Create dataset from train and testing including all possible features"
   ],
   "metadata": {
    "collapsed": false
   }
  },
  {
   "cell_type": "code",
   "execution_count": null,
   "outputs": [],
   "source": [
    "movies_features = pd.merge(\n",
    "  imdb[['imdbid', 'imdbRating', 'imdbVotes']],\n",
    "  movies_data[['imdbid', 'rating', 'budget_2013$', 'domgross_2013$', 'intgross_2013$']],\n",
    "  how='right', on='imdbid'\n",
    ")\n",
    "movies_features = movies_features.dropna()\n",
    "movies_features['rating'] = movies_features['rating'].astype(int)\n",
    "movies_features['budget_2013$'] = movies_features['budget_2013$'].astype(float)\n",
    "movies_features['domgross_2013$'] = movies_features['domgross_2013$'].astype(float)\n",
    "movies_features['intgross_2013$'] = movies_features['intgross_2013$'].astype(float)\n",
    "\n",
    "# Split features and labels\n",
    "X = movies_features[['imdbRating', 'imdbVotes', 'budget_2013$', 'domgross_2013$', 'intgross_2013$']]\n",
    "y = movies_features[['rating']]\n",
    "\n",
    "# Split train and test\n",
    "X_train, X_test, y_train, y_test = train_test_split(X, y, test_size=0.3, random_state=101, stratify=y)\n"
   ],
   "metadata": {
    "collapsed": false,
    "pycharm": {
     "name": "#%%\n"
    }
   }
  }
 ],
 "metadata": {
  "kernelspec": {
   "display_name": "Python 3 (ipykernel)",
   "language": "python",
   "name": "python3"
  },
  "language_info": {
   "codemirror_mode": {
    "name": "ipython",
    "version": 3
   },
   "file_extension": ".py",
   "mimetype": "text/x-python",
   "name": "python",
   "nbconvert_exporter": "python",
   "pygments_lexer": "ipython3",
   "version": "3.8.5"
  }
 },
 "nbformat": 4,
 "nbformat_minor": 1
}